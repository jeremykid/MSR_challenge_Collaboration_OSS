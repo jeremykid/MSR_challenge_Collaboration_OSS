{
 "cells": [
  {
   "cell_type": "code",
   "execution_count": 2,
   "id": "51b6295e",
   "metadata": {},
   "outputs": [],
   "source": [
    "import pickle\n",
    "import pandas as pd\n",
    "import numpy as np\n",
    "from tqdm import tqdm"
   ]
  },
  {
   "cell_type": "markdown",
   "id": "85d311b8-131c-4b6e-a7bd-4161ee264bf8",
   "metadata": {},
   "source": [
    "Load the ACE data"
   ]
  },
  {
   "cell_type": "code",
   "execution_count": 3,
   "id": "0a79afa0-2c98-434f-964c-146341225ec1",
   "metadata": {},
   "outputs": [],
   "source": [
    "temp_df_data = []\n",
    "temp_df_ACE_0 = pd.read_pickle('/home/weijiesun/cmput/660_data/RQ2/ACE_files_0_1000.pickle')\n",
    "temp_df_data.append(temp_df_ACE_0)\n",
    "temp_df_ACE_1 = pd.read_pickle('/home/weijiesun/cmput/660_data/RQ2/ACE_files_1000_10000.pickle')\n",
    "temp_df_data.append(temp_df_ACE_1)\n",
    "temp_df_ACE_2 = pd.read_pickle('/home/weijiesun/cmput/660_data/RQ2/ACE_files_10000_20000.pickle')\n",
    "temp_df_data.append(temp_df_ACE_2)"
   ]
  },
  {
   "cell_type": "code",
   "execution_count": 4,
   "id": "87a0b94f-555f-4c0e-a574-a1b3d93910d2",
   "metadata": {},
   "outputs": [],
   "source": [
    "df_ACE = pd.concat(temp_df_data)\n",
    "\n",
    "data = [\n",
    "    df_ACE['commit'].tolist(),\n",
    "    df_ACE[df_ACE['file_type'] == 'S']['commit'].to_list(),\n",
    "    df_ACE[df_ACE['file_type'] == 'D']['commit'].to_list(),\n",
    "    df_ACE[df_ACE['file_type'] == 'T']['commit'].to_list(),\n",
    "    df_ACE[df_ACE['file_type'] == 'B']['commit'].to_list(),\n",
    "]"
   ]
  },
  {
   "cell_type": "markdown",
   "id": "7ee0796f-2ca5-47bb-bd61-6092752cb33d",
   "metadata": {},
   "source": [
    "Plot the violin plot"
   ]
  },
  {
   "cell_type": "code",
   "execution_count": null,
   "id": "7f5c0f4d-5f35-4bdb-9128-a811ebb88840",
   "metadata": {},
   "outputs": [],
   "source": [
    "from matplotlib import pyplot as plt\n",
    "import seaborn as sns\n",
    "import numpy as np\n",
    "\n",
    "colors = ['#ff7f00', '#e41a1c','#377eb8','#4daf4a','#984ea3']\n",
    "\n",
    "def set_axis_style(ax, labels):\n",
    "    ax.xaxis.set_tick_params(direction='out')\n",
    "    ax.xaxis.set_ticks_position('bottom')\n",
    "    ax.set_xticks(np.arange(1, len(labels) + 1), labels=labels)\n",
    "    ax.set_xlim(0.25, len(labels) + 0.75)\n",
    "    ax.set_xlabel('File Types')\n",
    "\n",
    "\n",
    "fig, ax = plt.subplots(figsize=(12, 5))\n",
    "\n",
    "v1 = ax.violinplot(data, points=100, widths=0.8,#positions=np.,\n",
    "               showmeans=False, showextrema=False, showmedians=True) #, quantiles=[0.25,0.5,0.75]\n",
    "for index in range(5):\n",
    "    b = v1['bodies'][index]\n",
    "    # get the center\n",
    "    # m = np.mean(b.get_paths()[0].vertices[:, 0])\n",
    "    # # modify the paths to not go further right than the center\n",
    "    # b.get_paths()[0].vertices[:, 0] = np.clip(b.get_paths()[0].vertices[:, 0], -np.inf, m)\n",
    "    b.set_color(colors[index])\n",
    "\n",
    "set_axis_style(ax, ['All', 'Source Code', 'Documentation', 'Build Files', 'Tests'])\n",
    "plt.rcParams.update({'font.size': 18})\n",
    "\n",
    "plt.ylabel('Author Cross Entropy',fontsize=18)\n",
    "plt.ylim(0.2,1.5)\n",
    "plt.show()\n",
    "\n",
    "# plt.savefig('RQ1_file_type.png', dpi=400)\n"
   ]
  },
  {
   "cell_type": "code",
   "execution_count": 78,
   "id": "10ccb8bf-5af7-4acd-a1ba-23bc65227df5",
   "metadata": {},
   "outputs": [
    {
     "name": "stdout",
     "output_type": "stream",
     "text": [
      "S < S 0.5000000000680375\n",
      "S < D 1.0\n",
      "S < B 1.0\n",
      "S < T 1.0\n",
      "D < S 0.0\n",
      "D < D 0.5000000012122507\n",
      "D < B 6.6215428897945894e-40\n",
      "D < T 1.0\n",
      "B < S 2.0836666482383808e-51\n",
      "B < D 1.0\n",
      "B < B 0.5000000421272184\n",
      "B < T 1.0\n",
      "T < S 0.0\n",
      "T < D 5.090791088279032e-148\n",
      "T < B 2.8229445416756436e-109\n",
      "T < T 0.5000000005876377\n"
     ]
    }
   ],
   "source": [
    "from scipy.stats import mannwhitneyu, ttest_ind\n",
    "# from scipy. stats import stats\n",
    "\n",
    "temp_list = []\n",
    "for file_type1 in ['S', 'D', 'B', 'T']:\n",
    "    temp_row = []\n",
    "    for file_type2 in ['S', 'D', 'B', 'T']:\n",
    "        res = mannwhitneyu(df_ACE[df_ACE['file_type'] == file_type1]['commit'], \n",
    "                           df_ACE[df_ACE['file_type'] == file_type2]['commit'],\n",
    "                           alternative = 'greater')        \n",
    "        print (file_type1, '<', file_type2, res.pvalue)"
   ]
  },
  {
   "cell_type": "code",
   "execution_count": 66,
   "id": "a6ee8731-b2aa-4b5a-a9f7-a8347fcae5ee",
   "metadata": {},
   "outputs": [
    {
     "name": "stdout",
     "output_type": "stream",
     "text": [
      "S 150669\n",
      "T 55407\n",
      "D 8908\n",
      "B 3826\n"
     ]
    }
   ],
   "source": [
    "for file_type in ['S', 'T', 'D', 'B']:\n",
    "    print (file_type, df_ACE[(df_ACE['author'] > 6) & (df_ACE['file_type'] == file_type)].shape[0])"
   ]
  },
  {
   "cell_type": "code",
   "execution_count": 64,
   "id": "f1b41391-2926-48ce-8d0e-242cf7accedb",
   "metadata": {},
   "outputs": [
    {
     "name": "stdout",
     "output_type": "stream",
     "text": [
      "2\n",
      "S 2743892\n",
      "T 596494\n",
      "D 348110\n",
      "B 34587\n",
      "3\n",
      "S 600149\n",
      "T 163073\n",
      "D 173321\n",
      "B 8493\n",
      "4\n",
      "S 140546\n",
      "T 46019\n",
      "D 16188\n",
      "B 2606\n",
      "5\n",
      "S 81748\n",
      "T 33161\n",
      "D 7823\n",
      "B 1862\n",
      "6\n",
      "S 31979\n",
      "T 16785\n",
      "D 3173\n",
      "B 929\n"
     ]
    }
   ],
   "source": [
    "for num_author in range(2,7):\n",
    "    print (num_author)\n",
    "    for file_type in ['S', 'T', 'D', 'B']:\n",
    "        print (file_type, df_ACE[(df_ACE['author'] == num_author) & (df_ACE['file_type'] == file_type)].shape[0])\n",
    "        "
   ]
  }
 ],
 "metadata": {
  "kernelspec": {
   "display_name": "Python 3 (ipykernel)",
   "language": "python",
   "name": "python3"
  },
  "language_info": {
   "codemirror_mode": {
    "name": "ipython",
    "version": 3
   },
   "file_extension": ".py",
   "mimetype": "text/x-python",
   "name": "python",
   "nbconvert_exporter": "python",
   "pygments_lexer": "ipython3",
   "version": "3.8.12"
  }
 },
 "nbformat": 4,
 "nbformat_minor": 5
}
