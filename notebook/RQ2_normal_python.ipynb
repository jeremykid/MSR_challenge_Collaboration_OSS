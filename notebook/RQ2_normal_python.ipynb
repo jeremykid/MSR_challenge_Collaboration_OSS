{
 "cells": [
  {
   "cell_type": "code",
   "execution_count": 1,
   "id": "e06073e9-f94a-4aaa-bf1e-2bd08d0686eb",
   "metadata": {},
   "outputs": [],
   "source": [
    "import pickle\n",
    "import pandas as pd\n",
    "import numpy as np\n",
    "from tqdm import tqdm\n",
    "import requests\n",
    "import os\n",
    "token = os.getenv('GITHUB_TOKEN', '')\n",
    "import lex, lexxml, lexpy, lexjs\n",
    "lexpy = lexpy.gen(lex)"
   ]
  },
  {
   "cell_type": "code",
   "execution_count": 6,
   "id": "112b0254-4246-40ee-af57-7eef254a12cb",
   "metadata": {},
   "outputs": [],
   "source": [
    "project_url = 'https://github.com/conda-forge/libtvm-feedstock'\n",
    "url_params = '/'.join(project_url.split('/')[-2:])\n",
    "file_path = 'build-locally.py'\n",
    "# file_path = '/main/build-locally.py'\n",
    "query_url = f\"https://api.github.com/repos/\"+url_params+\"/git/blobs/\"+file_path\n",
    "params = {\n",
    "    \"state\": \"open\",\n",
    "}\n",
    "headers = {'Authorization': f'token {token}', 'Accept': 'application/vnd.github.diff',}\n",
    "r = requests.get(query_url, headers=headers, params=params)\n",
    "diff_list = list(r.iter_lines())"
   ]
  },
  {
   "cell_type": "code",
   "execution_count": 2,
   "id": "0a9c4d98-55cb-4ff6-b5e3-02d327c55e51",
   "metadata": {},
   "outputs": [],
   "source": [
    "file_dict = pd.read_pickle('Q3_file_dict.pickle')"
   ]
  },
  {
   "cell_type": "code",
   "execution_count": 3,
   "id": "8a194645-cbba-458e-968d-dd2336fc1def",
   "metadata": {
    "tags": []
   },
   "outputs": [
    {
     "name": "stderr",
     "output_type": "stream",
     "text": [
      "100%|█████████████████████████████████████████| 835/835 [16:30<00:00,  1.19s/it]\n"
     ]
    }
   ],
   "source": [
    "from urllib.request import urlopen\n",
    "\n",
    "result_dict = {}\n",
    "with tqdm(total=len(list(file_dict.keys()))) as pbar:\n",
    "\n",
    "    for url, files in file_dict.items():\n",
    "        project_url = url\n",
    "        url_params = '/'.join(project_url.split('/')[-2:])\n",
    "        result_dict[url] = {}\n",
    "        for file_path in files:\n",
    "            # file_path = 'build-locally.py'\n",
    "            result_dict[url][file_path] = ''\n",
    "            try:\n",
    "                link = \"https://raw.githubusercontent.com/\"+url_params+\"/main/\"+file_path\n",
    "                # print (link)\n",
    "                f = urlopen(link)\n",
    "            except:\n",
    "                try:\n",
    "                    link = \"https://raw.githubusercontent.com/\"+url_params+\"/master/\"+file_path\n",
    "                    f = urlopen(link)\n",
    "                except:\n",
    "                    continue\n",
    "                \n",
    "            myfile = f.read()\n",
    "            result_dict[url][file_path] = myfile.decode('utf-8', 'ignore')\n",
    "        pbar.update(1)"
   ]
  },
  {
   "cell_type": "code",
   "execution_count": 11,
   "id": "0356ab3b-a410-4cee-8dfc-fd2b5b634d28",
   "metadata": {},
   "outputs": [],
   "source": [
    "def print_py_token(input_string):\n",
    "    '''\n",
    "    param:\n",
    "        input_string: python source codes\n",
    "    return:\n",
    "        \n",
    "    '''\n",
    "    lexer = lex.Lexer(lexpy, input_string)\n",
    "    token_list = []\n",
    "    while (True):\n",
    "        t = lexer.get_token();\n",
    "        if (t is None): \n",
    "            break;\n",
    "        token_list.append(lexer.repr_token(t))\n",
    "    return token_list"
   ]
  },
  {
   "cell_type": "code",
   "execution_count": 13,
   "id": "57d19bab-2051-4126-829e-41f750d61bfd",
   "metadata": {},
   "outputs": [],
   "source": [
    "token_list = []"
   ]
  },
  {
   "cell_type": "code",
   "execution_count": 50,
   "id": "e463295d-2b86-46f8-b693-c43865bbf597",
   "metadata": {},
   "outputs": [],
   "source": [
    "count = 0\n",
    "for url, temp_dict in result_dict.items():\n",
    "    for file, data in temp_dict.items():\n",
    "        if data != '' and count < 665:\n",
    "            count += 1\n",
    "            token_list.extend(print_py_token(data))"
   ]
  },
  {
   "cell_type": "code",
   "execution_count": 15,
   "id": "a17fca36-66d3-40a5-9584-0c2be0f2c7a6",
   "metadata": {},
   "outputs": [],
   "source": [
    "def token_to_dict(token_string):\n",
    "    text_string = token_string.split('Token(text=', 1)[1].split(', type=')[0]\n",
    "    type_string = token_string.split(', type=', 1)[1].split(', flags=')[0]\n",
    "    flags_string = token_string.split(', flags=', 1)[1].split(', state=')[0]\n",
    "    state_string = token_string.split(', state=', 1)[1].split(')')[0]\n",
    "\n",
    "    return text_string, type_string, flags_string, state_string"
   ]
  },
  {
   "cell_type": "code",
   "execution_count": 51,
   "id": "c54a5623-a49b-4c85-b8fe-eeee60da44bc",
   "metadata": {},
   "outputs": [],
   "source": [
    "df_data_list = []\n",
    "for token_string in token_list:\n",
    "    df_data_list.append(token_to_dict(token_string))\n",
    "    # break"
   ]
  },
  {
   "cell_type": "code",
   "execution_count": 52,
   "id": "5b785b58-1fa1-45d0-9c81-e7f82c35ad89",
   "metadata": {},
   "outputs": [
    {
     "data": {
      "text/html": [
       "<div>\n",
       "<style scoped>\n",
       "    .dataframe tbody tr th:only-of-type {\n",
       "        vertical-align: middle;\n",
       "    }\n",
       "\n",
       "    .dataframe tbody tr th {\n",
       "        vertical-align: top;\n",
       "    }\n",
       "\n",
       "    .dataframe thead th {\n",
       "        text-align: right;\n",
       "    }\n",
       "</style>\n",
       "<table border=\"1\" class=\"dataframe\">\n",
       "  <thead>\n",
       "    <tr style=\"text-align: right;\">\n",
       "      <th></th>\n",
       "      <th>text</th>\n",
       "      <th>type</th>\n",
       "      <th>flags</th>\n",
       "      <th>state</th>\n",
       "    </tr>\n",
       "  </thead>\n",
       "  <tbody>\n",
       "    <tr>\n",
       "      <th>0</th>\n",
       "      <td>'import'</td>\n",
       "      <td>KEYWORD</td>\n",
       "      <td>NONE</td>\n",
       "      <td>DEFAULT</td>\n",
       "    </tr>\n",
       "    <tr>\n",
       "      <th>1</th>\n",
       "      <td>' '</td>\n",
       "      <td>WHITESPACE</td>\n",
       "      <td>IGNORE</td>\n",
       "      <td>DEFAULT</td>\n",
       "    </tr>\n",
       "    <tr>\n",
       "      <th>2</th>\n",
       "      <td>'time'</td>\n",
       "      <td>IDENTIFIER</td>\n",
       "      <td>NEXT_NO_OP_PREFIX</td>\n",
       "      <td>DEFAULT</td>\n",
       "    </tr>\n",
       "    <tr>\n",
       "      <th>3</th>\n",
       "      <td>'\\n'</td>\n",
       "      <td>WHITESPACE</td>\n",
       "      <td>IGNORE</td>\n",
       "      <td>DEFAULT</td>\n",
       "    </tr>\n",
       "    <tr>\n",
       "      <th>4</th>\n",
       "      <td>'from'</td>\n",
       "      <td>KEYWORD</td>\n",
       "      <td>NONE</td>\n",
       "      <td>DEFAULT</td>\n",
       "    </tr>\n",
       "    <tr>\n",
       "      <th>...</th>\n",
       "      <td>...</td>\n",
       "      <td>...</td>\n",
       "      <td>...</td>\n",
       "      <td>...</td>\n",
       "    </tr>\n",
       "    <tr>\n",
       "      <th>3781154</th>\n",
       "      <td>'.'</td>\n",
       "      <td>OPERATOR</td>\n",
       "      <td>NEXT_IS_MEMBER | NEXT_NO_OP_PREFIX</td>\n",
       "      <td>DEFAULT</td>\n",
       "    </tr>\n",
       "    <tr>\n",
       "      <th>3781155</th>\n",
       "      <td>'print'</td>\n",
       "      <td>IDENTIFIER</td>\n",
       "      <td>MEMBER | NEXT_NO_OP_PREFIX</td>\n",
       "      <td>DEFAULT</td>\n",
       "    </tr>\n",
       "    <tr>\n",
       "      <th>3781156</th>\n",
       "      <td>'('</td>\n",
       "      <td>OPERATOR</td>\n",
       "      <td>BRACKET</td>\n",
       "      <td>DEFAULT</td>\n",
       "    </tr>\n",
       "    <tr>\n",
       "      <th>3781157</th>\n",
       "      <td>')'</td>\n",
       "      <td>OPERATOR</td>\n",
       "      <td>NEXT_NO_OP_PREFIX | BRACKET | BRACKET_CLOSE</td>\n",
       "      <td>DEFAULT</td>\n",
       "    </tr>\n",
       "    <tr>\n",
       "      <th>3781158</th>\n",
       "      <td>'\\n'</td>\n",
       "      <td>WHITESPACE</td>\n",
       "      <td>IGNORE</td>\n",
       "      <td>DEFAULT</td>\n",
       "    </tr>\n",
       "  </tbody>\n",
       "</table>\n",
       "<p>3781159 rows × 4 columns</p>\n",
       "</div>"
      ],
      "text/plain": [
       "             text        type                                        flags  \\\n",
       "0        'import'     KEYWORD                                         NONE   \n",
       "1             ' '  WHITESPACE                                       IGNORE   \n",
       "2          'time'  IDENTIFIER                            NEXT_NO_OP_PREFIX   \n",
       "3            '\\n'  WHITESPACE                                       IGNORE   \n",
       "4          'from'     KEYWORD                                         NONE   \n",
       "...           ...         ...                                          ...   \n",
       "3781154       '.'    OPERATOR           NEXT_IS_MEMBER | NEXT_NO_OP_PREFIX   \n",
       "3781155   'print'  IDENTIFIER                   MEMBER | NEXT_NO_OP_PREFIX   \n",
       "3781156       '('    OPERATOR                                      BRACKET   \n",
       "3781157       ')'    OPERATOR  NEXT_NO_OP_PREFIX | BRACKET | BRACKET_CLOSE   \n",
       "3781158      '\\n'  WHITESPACE                                       IGNORE   \n",
       "\n",
       "           state  \n",
       "0        DEFAULT  \n",
       "1        DEFAULT  \n",
       "2        DEFAULT  \n",
       "3        DEFAULT  \n",
       "4        DEFAULT  \n",
       "...          ...  \n",
       "3781154  DEFAULT  \n",
       "3781155  DEFAULT  \n",
       "3781156  DEFAULT  \n",
       "3781157  DEFAULT  \n",
       "3781158  DEFAULT  \n",
       "\n",
       "[3781159 rows x 4 columns]"
      ]
     },
     "execution_count": 52,
     "metadata": {},
     "output_type": "execute_result"
    }
   ],
   "source": [
    "# df_data_list\n",
    "\n",
    "df = pd.DataFrame.from_records(df_data_list, columns=['text', 'type', 'flags', 'state'])\n",
    "df"
   ]
  },
  {
   "cell_type": "code",
   "execution_count": 55,
   "id": "79d5985f-2f27-411e-bc60-35c78edc06a8",
   "metadata": {},
   "outputs": [
    {
     "data": {
      "text/plain": [
       "126738"
      ]
     },
     "execution_count": 55,
     "metadata": {},
     "output_type": "execute_result"
    }
   ],
   "source": [
    "df['text'].nunique()"
   ]
  },
  {
   "cell_type": "code",
   "execution_count": 61,
   "id": "77812f9c-020d-4b66-ab5d-c63652747eb6",
   "metadata": {},
   "outputs": [
    {
     "data": {
      "text/plain": [
       "'if'          25620\n",
       "'def'         19541\n",
       "'return'      14883\n",
       "'in'          13318\n",
       "'import'      11333\n",
       "'for'          9020\n",
       "'else'         6622\n",
       "'not'          6334\n",
       "'from'         5665\n",
       "'and'          3577\n",
       "'is'           3214\n",
       "'elif'         3036\n",
       "'try'          2812\n",
       "'class'        2777\n",
       "'except'       2763\n",
       "'as'           2172\n",
       "'raise'        2150\n",
       "'or'           2131\n",
       "'assert'       1591\n",
       "'with'         1394\n",
       "'pass'         1040\n",
       "'del'           868\n",
       "'continue'      832\n",
       "'lambda'        764\n",
       "'while'         677\n",
       "'global'        495\n",
       "'break'         463\n",
       "'yield'         304\n",
       "'finally'       185\n",
       "'nonlocal'        7\n",
       "Name: text, dtype: int64"
      ]
     },
     "execution_count": 61,
     "metadata": {},
     "output_type": "execute_result"
    }
   ],
   "source": [
    "df[df['type'] == 'KEYWORD']['text'].value_counts()"
   ]
  },
  {
   "cell_type": "code",
   "execution_count": 62,
   "id": "08f8e38b-4f2c-4836-9c27-bf2dae280557",
   "metadata": {},
   "outputs": [],
   "source": [
    "df.to_pickle('normal_python_token.py')"
   ]
  }
 ],
 "metadata": {
  "kernelspec": {
   "display_name": "Python 3 (ipykernel)",
   "language": "python",
   "name": "python3"
  },
  "language_info": {
   "codemirror_mode": {
    "name": "ipython",
    "version": 3
   },
   "file_extension": ".py",
   "mimetype": "text/x-python",
   "name": "python",
   "nbconvert_exporter": "python",
   "pygments_lexer": "ipython3",
   "version": "3.8.12"
  }
 },
 "nbformat": 4,
 "nbformat_minor": 5
}
